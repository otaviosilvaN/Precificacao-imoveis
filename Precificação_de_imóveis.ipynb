{
  "nbformat": 4,
  "nbformat_minor": 0,
  "metadata": {
    "colab": {
      "name": "Aula 01 - Precificação de imóveis.ipynb",
      "provenance": [],
      "authorship_tag": "ABX9TyORTjhTU9X/mUSos496afmv",
      "include_colab_link": true
    },
    "kernelspec": {
      "name": "python3",
      "display_name": "Python 3"
    },
    "language_info": {
      "name": "python"
    }
  },
  "cells": [
    {
      "cell_type": "markdown",
      "metadata": {
        "id": "view-in-github",
        "colab_type": "text"
      },
      "source": [
        "<a href=\"https://colab.research.google.com/github/otaviosilvaN/Precificacao-imoveis/blob/main/Precifica%C3%A7%C3%A3o_de_im%C3%B3veis.ipynb\" target=\"_parent\"><img src=\"https://colab.research.google.com/assets/colab-badge.svg\" alt=\"Open In Colab\"/></a>"
      ]
    },
    {
      "cell_type": "code",
      "execution_count": null,
      "metadata": {
        "id": "Icugpy3ypRbO"
      },
      "outputs": [],
      "source": [
        ""
      ]
    }
  ]
}